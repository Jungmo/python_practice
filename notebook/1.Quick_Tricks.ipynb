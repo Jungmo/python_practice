{
 "cells": [
  {
   "cell_type": "markdown",
   "metadata": {},
   "source": [
    "### 1. 1 Four Kinds of Quotes - 네가지 종류의 인용\n",
    "\n",
    "여러분이 알만한 트릭부터 시작해 보겠습니다. 다른 언어로부터 오셨다면, 아마도 한 곳에서는 홑따옴표를 사용하고 다른 곳에서는 겹따옴표를 사용해 오셨을 것입니다. 파이썬에서는 둘 모두를 사용할 수 있습니다. 물론 서로 교환해 쓸수는 없습니다 (그 중 하나로 시작했다면 끝날 때도 같은 것을 사용해야 합니다). 파이썬은 두 가지 유형의 인용방식을 더 지원합니다. 삼중 홑따옴표(''')는 세개의 홑따옴표를 타자하여 만듭니다. 삼중-겹따옴표(\"\"\")는 세개의 겹따옴표를 타자하여 만듭니다. 그래서 인용문자를 피신시키는데 신경쓸 필요 없이 여러 겹으로 인용할 수 있습니다. 예를 들어, 다음은 유효한 파이썬 구문입니다:\n"
   ]
  },
  {
   "cell_type": "code",
   "execution_count": 1,
   "metadata": {
    "collapsed": false
   },
   "outputs": [
    {
     "name": "stdout",
     "output_type": "stream",
     "text": [
      "I wish that I'd never heard him say, '''She said, \"He said, 'Give me five dollars'\"'''\n"
     ]
    }
   ],
   "source": [
    "print \"\"\"I wish that I'd never heard him say, '''She said, \"He said, 'Give me five dollars'\"'''\"\"\""
   ]
  },
  {
   "cell_type": "markdown",
   "metadata": {},
   "source": [
    "### 1. 2 Truthfulness of Various Objects - 다양한 객체의 진위\n",
    "\n",
    "어떤 프로그래밍 언어와는 다르게( Javascript ) 파이썬의 유형은 비어 있으면 거짓입니다. 그렇지 않으면 참입니다. 즉 문자열이나 터플 또는 리스트나 사전의 길이가 0인지, 즉 비어 있는지 점검할 필요가 없다는 뜻입니다. 그냥 그 객체의 진위만 점검해도 충분합니다.\n",
    "예상하시겠지만, 숫자 0도 거짓입니다. 반면에 다른 숫자는 모두 참입니다.\n",
    "예를 들어, 다음 표현식은 동등합니다. 여기에서, 'my_object'는 문자열이지만, (동등성 테스트에 맞게 적절하게 수정하면) 쉽게 또다른 파이썬 유형이 될 수 있습니다."
   ]
  },
  {
   "cell_type": "code",
   "execution_count": 2,
   "metadata": {
    "collapsed": false
   },
   "outputs": [
    {
     "name": "stdout",
     "output_type": "stream",
     "text": [
      "myobject is not empty\n",
      "myobject is not empty\n",
      "myobject is not empty\n",
      "myobject is not empty\n"
     ]
    }
   ],
   "source": [
    "myobject = 'Test'\n",
    "\n",
    "if len(myobject) > 0:\n",
    "    print 'myobject is not empty'\n",
    "\n",
    "if len(myobject):\n",
    "    print 'myobject is not empty'\n",
    "\n",
    "if myobject != '':\n",
    "    print 'myobject is not empty'\n",
    "\n",
    "if myobject:\n",
    "    print 'myobject is not empty'"
   ]
  },
  {
   "cell_type": "code",
   "execution_count": 3,
   "metadata": {
    "collapsed": false
   },
   "outputs": [
    {
     "name": "stdout",
     "output_type": "stream",
     "text": [
      "myobject is empty\n"
     ]
    }
   ],
   "source": [
    "myobject = ''\n",
    "\n",
    "if len(myobject) > 0:\n",
    "    print 'myobject is not empty'\n",
    "\n",
    "if len(myobject): # 0 will evaluate to False\n",
    "    print 'myobject is not empty'\n",
    "\n",
    "if myobject != '':\n",
    "    print 'myobject is not empty'\n",
    "\n",
    "if not myobject: # an empty string will evaluate to False\n",
    "    print 'myobject is empty'"
   ]
  },
  {
   "cell_type": "markdown",
   "metadata": {},
   "source": [
    "결론적으로 오직 그 객체가 비어있는지 아닌지만 관심 사항이라면 실제로 길이나 동등성을 점검할 필요가 없습니다."
   ]
  },
  {
   "cell_type": "markdown",
   "metadata": {},
   "source": [
    "### 1. 3 Checking if a String Contains a Substring - 문자열에 부분문자열이 들어 있는지 점검하기\n",
    "\n",
    "다음은 확실하게 보이는 힌트이지만, 본인은 이해하는데 일년이 넘게 걸렸습니다.\n",
    "아마도 리스트나 터플 또는 사전에 항목이 있는지 점검할 수 있다는 것을 아실 겁니다. \n",
    "다음 'item in list' 또는 'item not in list' 표현식을 테스트해 보면 됩니다. \n",
    "본인은 이것이 문자열에도 작동한다는 것을 알지 못했습니다. \n",
    "언제나 다음과 같이 코딩을 하고 있었습니다:"
   ]
  },
  {
   "cell_type": "code",
   "execution_count": 4,
   "metadata": {
    "collapsed": false
   },
   "outputs": [
    {
     "name": "stdout",
     "output_type": "stream",
     "text": [
      "Success!\n"
     ]
    }
   ],
   "source": [
    "string = 'Hi there' # True example\n",
    "# string = 'Good bye' # False example\n",
    "if string.find('Hi') != -1:\n",
    "    print 'Success!'"
   ]
  },
  {
   "cell_type": "code",
   "execution_count": 5,
   "metadata": {
    "collapsed": false
   },
   "outputs": [
    {
     "name": "stdout",
     "output_type": "stream",
     "text": [
      "Success!\n"
     ]
    }
   ],
   "source": [
    "string = 'Hi there' # True example\n",
    "# string = 'Good bye' # False example\n",
    "if 'Hi' in string:\n",
    "    print 'Success!'"
   ]
  },
  {
   "cell_type": "markdown",
   "metadata": {},
   "source": [
    "코드가 보기 흉하지요. 'if substring in string'과 완전히 똑같습니다:\n",
    "훨씬 깔끔하고 간단합니다. 누구나 이해할 만큼 쉽지만, 저는 좀 더 일찍 알았더라면 하는 아쉬움이 있습니다."
   ]
  },
  {
   "cell_type": "markdown",
   "metadata": {},
   "source": [
    "### 1. 4 Pretty-Printing a List - 리스트 예쁘게-출력하기\n",
    "\n",
    "리스트는 인쇄가 깔끔하지 못합니다. 물론 리스트가 무엇인지는 알지만, 일반 사용자는 원소마다 덕지덕지 붙은 따옴표가 보기 싫을 겁니다. 이를 해결하는 간단한 방법이 있습니다. 문자열의 'join' 메쏘드를 사용하는 것입니다:"
   ]
  },
  {
   "cell_type": "code",
   "execution_count": 6,
   "metadata": {
    "collapsed": false
   },
   "outputs": [
    {
     "name": "stdout",
     "output_type": "stream",
     "text": [
      "AEIS member : JeongGil Ko, Jungmo Ahn, JaeYeon Park, Seungmin Kim\n"
     ]
    }
   ],
   "source": [
    "AEIS = ['JeongGil Ko', 'Jungmo Ahn', 'JaeYeon Park', 'Seungmin Kim']\n",
    "print 'AEIS member : %s' % ', '.join(AEIS)"
   ]
  },
  {
   "cell_type": "markdown",
   "metadata": {},
   "source": [
    "join 메쏘드는 리스트를 문자열로 바꾸어 줍니다.\n",
    "각 원소를 문자열로 강제 형변환하여 그들을 join이 호출된 문자열에 결합합니다.\n",
    "아주 똑똑해서 마지막 원소 다음에는 문자열을 더 붙이지 않습니다.\n",
    "또 장점이 있다면, 이것은 아주 빨라서 실행시간이 선형입니다. 문자열을 만들 때 절대로 for 회돌이 안에서 '+'를 사용하여 리스트 원소들을 더하지 마세요: 보기 흉할 뿐아니라, 제곱 시간이 걸리기 때문입니다!"
   ]
  },
  {
   "cell_type": "markdown",
   "metadata": {},
   "source": [
    "### 1. 5 Integer vs. Float Division\n",
    "\n",
    "By default, if you divide one integer by another, the result will be truncated into an integer. **For example, executing 5/2 returns 2.**\n",
    "\n",
    "There are two was to fix this. The first and simplest way is to just turn one of the integers into a float. If the values are static, **you can just append a .0 to one to make it a float: 5.0/2 returns 2.5. Alternatively, you can just cast one of the values: float(5) / 2 returns 2.5.**\n",
    "\n",
    "The other way will result in cleaner code, but you must make sure none of your code is relying on this truncation. **You can do a from __future__ import division to change Python to always return a float as the result of a division.** After such an import, 5/2 will return 2.5. If you still need to use the truncating integer division somewhere, you can then use the // operator: 5//2 will always return 2.\n"
   ]
  },
  {
   "cell_type": "code",
   "execution_count": 7,
   "metadata": {
    "collapsed": false,
    "scrolled": true
   },
   "outputs": [
    {
     "name": "stdout",
     "output_type": "stream",
     "text": [
      "2\n",
      "2.5\n",
      "2.5\n",
      "2\n",
      "2.5\n",
      "2.5\n",
      "2.5\n",
      "2\n"
     ]
    }
   ],
   "source": [
    "print 5/2        # Returns 2\n",
    "print 5.0/2      # Returns 2.5\n",
    "print float(5)/2 # Returns 2.5\n",
    "print 5//2       # Returns 2\n",
    "\n",
    "from __future__ import division\n",
    "print 5/2        # Returns 2.5\n",
    "print 5.0/2      # Returns 2.5\n",
    "print float(5)/2 # Returns 2.5\n",
    "print 5//2       # Returns 2"
   ]
  },
  {
   "cell_type": "markdown",
   "metadata": {},
   "source": [
    "### 1. 6  Lambda Functions  - 람다 함수\n",
    "\n",
    "가끔 함수를 인자로 건네야 할 경우가 있습니다. 또는 짧지만 복잡한 연산을 여러 번 하고 싶을 경우가 있습니다. 함수를 일반적인 방식으로 정의해도 되며, 람다 함수를 만들어도 됩니다. 람다 함수는 단 하나의 표현식의 결과를 돌려주는 미니-함수입니다. 두 정의는 완전히 동일합니다:"
   ]
  },
  {
   "cell_type": "code",
   "execution_count": 8,
   "metadata": {
    "collapsed": false
   },
   "outputs": [
    {
     "name": "stdout",
     "output_type": "stream",
     "text": [
      "11\n",
      "11\n"
     ]
    }
   ],
   "source": [
    "def add(a,b): return a+b\n",
    "\n",
    "add2 = lambda a,b : a+b\n",
    "\n",
    "print add(5,6)\n",
    "print add2(5,6)"
   ]
  },
  {
   "cell_type": "markdown",
   "metadata": {},
   "source": [
    "람다 함수의 이점은 그 자체로 표현식입니다. 그래서 또다른 서술문 안에 사용될 수 있습니다. 다음은 map 함수를 사용하는 예인데, 리스트의 매 원소마다 함수를 호출하여, 그 결과를 리스트에 담아 돌려줍니다. (아래 지능형 리스트(List Comprehensions) 섹션에서 map이 별로 쓸모없다는 좋은 사례를 보여줍니다. 그렇지만, 훌륭한 한줄짜리 예제입니다.)"
   ]
  },
  {
   "cell_type": "code",
   "execution_count": 9,
   "metadata": {
    "collapsed": false
   },
   "outputs": [
    {
     "name": "stdout",
     "output_type": "stream",
     "text": [
      "[1, 4, 9, 16, 25]\n"
     ]
    }
   ],
   "source": [
    "squares = map(lambda a: a*a, [1,2,3,4,5])\n",
    "# squares is now [1,4,9,16,25]\n",
    "\n",
    "print squares"
   ]
  },
  {
   "cell_type": "markdown",
   "metadata": {},
   "source": [
    "A lambda function has the syntax: lambda variable(s) : expression"
   ]
  }
 ],
 "metadata": {
  "kernelspec": {
   "display_name": "Python 2",
   "language": "python",
   "name": "python2"
  },
  "language_info": {
   "codemirror_mode": {
    "name": "ipython",
    "version": 2
   },
   "file_extension": ".py",
   "mimetype": "text/x-python",
   "name": "python",
   "nbconvert_exporter": "python",
   "pygments_lexer": "ipython2",
   "version": "2.7.12"
  }
 },
 "nbformat": 4,
 "nbformat_minor": 2
}
