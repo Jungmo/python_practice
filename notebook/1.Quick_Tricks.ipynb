{
 "cells": [
  {
   "cell_type": "markdown",
   "metadata": {},
   "source": [
    "### 1. 1 Four Kinds of Quotes - 네가지 종류의 인용\n",
    "\n",
    "여러분이 알만한 트릭부터 시작해 보겠습니다. 다른 언어로부터 오셨다면, 아마도 한 곳에서는 홑따옴표를 사용하고 다른 곳에서는 겹따옴표를 사용해 오셨을 것입니다. 파이썬에서는 둘 모두를 사용할 수 있습니다. 물론 서로 교환해 쓸수는 없습니다 (그 중 하나로 시작했다면 끝날 때도 같은 것을 사용해야 합니다). 파이썬은 두 가지 유형의 인용방식을 더 지원합니다. 삼중 홑따옴표(''')는 세개의 홑따옴표를 타자하여 만듭니다. 삼중-겹따옴표(\"\"\")는 세개의 겹따옴표를 타자하여 만듭니다. 그래서 인용문자를 피신시키는데 신경쓸 필요 없이 여러 겹으로 인용할 수 있습니다. 예를 들어, 다음은 유효한 파이썬 구문입니다:\n"
   ]
  },
  {
   "cell_type": "code",
   "execution_count": 1,
   "metadata": {
    "collapsed": false
   },
   "outputs": [
    {
     "name": "stdout",
     "output_type": "stream",
     "text": [
      "I wish that I'd never heard him say, '''She said, \"He said, 'Give me five dollars'\"'''\n"
     ]
    }
   ],
   "source": [
    "print \"\"\"I wish that I'd never heard him say, '''She said, \"He said, 'Give me five dollars'\"'''\"\"\""
   ]
  },
  {
   "cell_type": "markdown",
   "metadata": {},
   "source": [
    "### 1. 2 Truthfulness of Various Objects - 다양한 객체의 진위\n",
    "\n",
    "어떤 프로그래밍 언어와는 다르게( Javascript ) 파이썬의 유형은 비어 있으면 거짓입니다. 그렇지 않으면 참입니다. 즉 문자열이나 터플 또는 리스트나 사전의 길이가 0인지, 즉 비어 있는지 점검할 필요가 없다는 뜻입니다. 그냥 그 객체의 진위만 점검해도 충분합니다.\n",
    "예상하시겠지만, 숫자 0도 거짓입니다. 반면에 다른 숫자는 모두 참입니다.\n",
    "예를 들어, 다음 표현식은 동등합니다. 여기에서, 'my_object'는 문자열이지만, (동등성 테스트에 맞게 적절하게 수정하면) 쉽게 또다른 파이썬 유형이 될 수 있습니다."
   ]
  },
  {
   "cell_type": "code",
   "execution_count": 2,
   "metadata": {
    "collapsed": false
   },
   "outputs": [
    {
     "name": "stdout",
     "output_type": "stream",
     "text": [
      "myobject is not empty\n",
      "myobject is not empty\n",
      "myobject is not empty\n",
      "myobject is not empty\n"
     ]
    }
   ],
   "source": [
    "myobject = 'Test'\n",
    "\n",
    "if len(myobject) > 0:\n",
    "    print 'myobject is not empty'\n",
    "\n",
    "if len(myobject):\n",
    "    print 'myobject is not empty'\n",
    "\n",
    "if myobject != '':\n",
    "    print 'myobject is not empty'\n",
    "\n",
    "if myobject:\n",
    "    print 'myobject is not empty'"
   ]
  },
  {
   "cell_type": "code",
   "execution_count": 3,
   "metadata": {
    "collapsed": false
   },
   "outputs": [
    {
     "name": "stdout",
     "output_type": "stream",
     "text": [
      "myobject is empty\n"
     ]
    }
   ],
   "source": [
    "myobject = ''\n",
    "\n",
    "if len(myobject) > 0:\n",
    "    print 'myobject is not empty'\n",
    "\n",
    "if len(myobject): # 0 will evaluate to False\n",
    "    print 'myobject is not empty'\n",
    "\n",
    "if myobject != '':\n",
    "    print 'myobject is not empty'\n",
    "\n",
    "if not myobject: # an empty string will evaluate to False\n",
    "    print 'myobject is empty'"
   ]
  },
  {
   "cell_type": "markdown",
   "metadata": {},
   "source": [
    "결론적으로 오직 그 객체가 비어있는지 아닌지만 관심 사항이라면 실제로 길이나 동등성을 점검할 필요가 없습니다."
   ]
  }
 ],
 "metadata": {
  "kernelspec": {
   "display_name": "Python 2",
   "language": "python",
   "name": "python2"
  },
  "language_info": {
   "codemirror_mode": {
    "name": "ipython",
    "version": 2
   },
   "file_extension": ".py",
   "mimetype": "text/x-python",
   "name": "python",
   "nbconvert_exporter": "python",
   "pygments_lexer": "ipython2",
   "version": "2.7.12"
  }
 },
 "nbformat": 4,
 "nbformat_minor": 2
}
