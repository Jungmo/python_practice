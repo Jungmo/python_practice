{
 "cells": [
  {
   "cell_type": "markdown",
   "metadata": {
    "deletable": true,
    "editable": true
   },
   "source": [
    "## 2. 1   지능형 리스트\n",
    "\n",
    "파이썬을 아주 오랫동안 사용해 보셨다면, 적어도 지능형 리스트에 관하여 들어 보셨을 겁니다.\n",
    "한 줄에 for 회돌이와 if 서술문 그리고 모든 할당을 짜맞춘 리스트입니다.\n",
    "다른 말로 해서, 리스트에 map과 filter를 한 표현식 안에서 적용할 수 있습니다."
   ]
  },
  {
   "cell_type": "markdown",
   "metadata": {
    "deletable": true,
    "editable": true
   },
   "source": [
    "### 2. 1. 1 리스트 짝짓기\n",
    "\n",
    "아주 쉬운 것부터 시작하겠습니다. 리스트의 매 요소마다 제곱으로 만들고 싶을 경우, 초보 파이썬 프로그래머라면 다음과 같이 코드를 작성할 것입니다:\n"
   ]
  },
  {
   "cell_type": "code",
   "execution_count": 1,
   "metadata": {
    "collapsed": false,
    "deletable": true,
    "editable": true
   },
   "outputs": [
    {
     "data": {
      "text/plain": [
       "[1, 4, 9, 16, 25]"
      ]
     },
     "execution_count": 1,
     "metadata": {},
     "output_type": "execute_result"
    }
   ],
   "source": [
    "numbers = [1,2,3,4,5]\n",
    "sqaures = []\n",
    "for number in numbers :\n",
    "    sqaures.append(number*number)\n",
    "sqaures"
   ]
  },
  {
   "cell_type": "markdown",
   "metadata": {
    "deletable": true,
    "editable": true
   },
   "source": [
    "효과적으로 한 리스트를 다른 리스트에 '짝지었습니다'.\n",
    "map 함수도 사용할 수 있으며, 다음과 같은 일을 할 수 있습니다:"
   ]
  },
  {
   "cell_type": "code",
   "execution_count": 2,
   "metadata": {
    "collapsed": false,
    "deletable": true,
    "editable": true
   },
   "outputs": [
    {
     "data": {
      "text/plain": [
       "[1, 4, 9, 16, 25]"
      ]
     },
     "execution_count": 2,
     "metadata": {},
     "output_type": "execute_result"
    }
   ],
   "source": [
    "numbers = [1,2,3,4,5]\n",
    "sqaures = map(lambda x : x*x, numbers)\n",
    "sqaures"
   ]
  },
  {
   "cell_type": "markdown",
   "metadata": {
    "deletable": true,
    "editable": true
   },
   "source": [
    "(3줄이 아니라 1줄이므로) 이 코드가 확실히 더 짧지만 매우 보기가 안 좋습니다. 한 번 보고 대번에 map 함수가 무슨 일을 하고 있는지 말하기가 어렵습니다 (함수와 리스트를 받아서, 그 함수를 리스트의 각 원소에 적용합니다). 게다가, 좀 산만해 보이는 함수를 건네야 합니다. 더 깔끔한 방법이 있다면...아마도 지능형 리스트일 겁니다:"
   ]
  },
  {
   "cell_type": "code",
   "execution_count": 3,
   "metadata": {
    "collapsed": false,
    "deletable": true,
    "editable": true
   },
   "outputs": [
    {
     "data": {
      "text/plain": [
       "[1, 4, 9, 16, 25]"
      ]
     },
     "execution_count": 3,
     "metadata": {},
     "output_type": "execute_result"
    }
   ],
   "source": [
    "numbers = [1,2,3,4,5]\n",
    "sqaures = [number*number for number in numbers]\n",
    "sqaures"
   ]
  },
  {
   "cell_type": "markdown",
   "metadata": {
    "deletable": true,
    "editable": true
   },
   "source": [
    "이는 앞의 두 예제와 똑같은 일을 합니다. 그러나 (첫 예제와 다르게) 더 짧으며 (두 번째 예제와 다르게) 깨끗합니다. 무슨 일을 하고 있는지 이해하지 못하는 사람은 아무도 없을 겁니다. 비록 파이썬을 모른다고 할지라도 말입니다."
   ]
  },
  {
   "cell_type": "markdown",
   "metadata": {
    "deletable": true,
    "editable": true
   },
   "source": [
    "### 2. 1. 2 리스트 여과\n",
    "\n",
    "리스트를 여과하는데 관심이 더 있다면 어떻게 할까? 값이 10을 넘어가는 원소는 제거하고 싶다면? (좋습니다. 그래서 예제가 별로 현실적이지 못합니다. 어쨌거나...) 파이썬 초보라면 다음과 같이 작성할 겁니다."
   ]
  },
  {
   "cell_type": "code",
   "execution_count": 4,
   "metadata": {
    "collapsed": false,
    "deletable": true,
    "editable": true
   },
   "outputs": [
    {
     "data": {
      "text/plain": [
       "[1, 4, 9]"
      ]
     },
     "execution_count": 4,
     "metadata": {},
     "output_type": "execute_result"
    }
   ],
   "source": [
    "sqaures = [1, 4, 9, 16, 25]\n",
    "sqaures_under_10 = []\n",
    "for sqaure in sqaures:\n",
    "    if sqaure < 10:\n",
    "        sqaures_under_10.append(sqaure)\n",
    "sqaures_under_10"
   ]
  },
  {
   "cell_type": "markdown",
   "metadata": {
    "deletable": true,
    "editable": true
   },
   "source": [
    "아주 간단하지요? 그러나 4 줄이 들고 두 단계로 내포되며 그리고 별거 아닌 일에 append 메쏘드가 소비되었습니다. filter 함수로 코드의 크기를 줄일 수 있습니다:"
   ]
  },
  {
   "cell_type": "code",
   "execution_count": 5,
   "metadata": {
    "collapsed": false,
    "deletable": true,
    "editable": true
   },
   "outputs": [
    {
     "data": {
      "text/plain": [
       "[1, 4, 9]"
      ]
     },
     "execution_count": 5,
     "metadata": {},
     "output_type": "execute_result"
    }
   ],
   "source": [
    "sqaures = [1, 4, 9, 16, 25]\n",
    "sqaures_under_10 = filter(lambda x : x < 10, sqaures)\n",
    "sqaures_under_10"
   ]
  },
  {
   "cell_type": "markdown",
   "metadata": {
    "deletable": true,
    "editable": true
   },
   "source": [
    "위에서 언급한 map 함수와 비슷하게, 이는 코드의 크기를 줄여주지만 실제로는 보기가 안 좋습니다. 도데체 무슨 일이 진행되고 있는 건지 모르겠어요?\n",
    "map처럼, filter 함수는 함수와 리스트를 받습니다. 리스트의 매 요소를 평가하여 참으로 평가되면 그 원소는 최종 리스트에 포함됩니다. 물론, 지능형 리스트로도 이렇게 할 수 있습니다."
   ]
  },
  {
   "cell_type": "code",
   "execution_count": 6,
   "metadata": {
    "collapsed": false,
    "deletable": true,
    "editable": true
   },
   "outputs": [
    {
     "data": {
      "text/plain": [
       "[1, 4, 9]"
      ]
     },
     "execution_count": 6,
     "metadata": {},
     "output_type": "execute_result"
    }
   ],
   "source": [
    "sqaures = [1, 4, 9, 16, 25]\n",
    "sqaures_under10 = [sqaure for sqaure in sqaures if sqaure < 10]\n",
    "sqaures_under10"
   ]
  },
  {
   "cell_type": "markdown",
   "metadata": {
    "deletable": true,
    "editable": true
   },
   "source": [
    "역시, 지능형 리스트를 사용하면 코드가 더 짧고 깨끗하며 이해하기 쉽습니다."
   ]
  },
  {
   "cell_type": "markdown",
   "metadata": {},
   "source": [
    "### 2. 1. 3 단번에 Map과 Filter 사용하기\n",
    "\n",
    "이제 지능형 리스트의 진정한 힘을 맛보게 되었습니다. 아직까지도 map과 filter가 일반적으로 시간 낭비라는데 동감하지 못하시겠다면, 모쪼록 다음이 도움이 되기를 바랍니다.\n",
    "리스트를 동시에 짝짓고 여과하고 싶다고 해보겠습니다. 다시 말해, 리스트의 각 원소를 제곱하고 싶습니다. 제곱된 값이 10을 넘지 않아야 합니다. 역시, 파이썬 초보의 눈으로 작성해 보면:"
   ]
  },
  {
   "cell_type": "code",
   "execution_count": 7,
   "metadata": {
    "collapsed": false
   },
   "outputs": [
    {
     "data": {
      "text/plain": [
       "[1, 4, 9]"
      ]
     },
     "execution_count": 7,
     "metadata": {},
     "output_type": "execute_result"
    }
   ],
   "source": [
    "numbers = [1,2,3,4,5]\n",
    "squares_under_10 = []\n",
    "for number in numbers:\n",
    "    if number*number < 10:\n",
    "        squares_under_10.append(number*number)\n",
    "squares_under_10"
   ]
  },
  {
   "cell_type": "markdown",
   "metadata": {},
   "source": [
    "코드는 이제 수평선 저 쪾에서 확대되기 시작합니다! 아, 코드를 간단하게 만들려면 어떻게 해야 할까요? map과 filter의 사용을 시도해 볼 수 있지만, 그러고 싶은 생각이 들지 않습니다..."
   ]
  },
  {
   "cell_type": "code",
   "execution_count": 8,
   "metadata": {
    "collapsed": false
   },
   "outputs": [
    {
     "data": {
      "text/plain": [
       "[1, 4, 9]"
      ]
     },
     "execution_count": 8,
     "metadata": {},
     "output_type": "execute_result"
    }
   ],
   "source": [
    "numbers = [1,2,3,4,5]\n",
    "squares_under_10 = filter(lambda x:x < 10, map(lambda x:x*x, numbers))\n",
    "squares_under_10"
   ]
  },
  {
   "cell_type": "markdown",
   "metadata": {},
   "source": [
    "앞에서 map과 filter는 보기가 않좋았지만, 이제 읽기에도 버겁습니다. 이것이 좋은 생각이 아닌 것 만큼은 분명합니다. 역시, 지능형 리스트가 시간을 절약해 줍니다:\n"
   ]
  },
  {
   "cell_type": "code",
   "execution_count": 9,
   "metadata": {
    "collapsed": false
   },
   "outputs": [
    {
     "name": "stdout",
     "output_type": "stream",
     "text": [
      "[1, 4, 9]\n"
     ]
    }
   ],
   "source": [
    "numbers = [1,2,3,4,5]\n",
    "squares_under_10 = [number*number for number in numbers if number*number<10]\n",
    "print sqaures_under_10"
   ]
  },
  {
   "cell_type": "markdown",
   "metadata": {},
   "source": [
    "이는 앞의 지능형 리스트보다 약간 더 깁니다. 그러나 생각건대 읽기에는 아주 좋습니다.\n",
    "for 회돌이 또는 map과 filter를 사용하는 것보다는 확실히 좋습니다."
   ]
  },
  {
   "cell_type": "markdown",
   "metadata": {},
   "source": [
    "### 2. 1. 4  발생자 표현식\n",
    "\n",
    "지능형 리스트에는 단점이 있습니다: **전체 리스트가 메모리에 한꺼번에 저장되어야 합니다.** 이는 위의 예제에서와 같이 작은 리스트라면 문제가 되지 않습니다. 그러나 수천 수만 배가 넘는 더 큰 리스트라면 결국 이는 아주 비효율적이 됩니다.\n",
    " \n",
    "발생자 표현식은 파이썬 2.4에서 도입되었습니다. 그리고 아직 파이썬에 관하여 멋진 것임에도 불구하고 잘 알려지지 않았습니다. 역시, 본인도 얼마 전에 알았습니다. **발생자 표현식은 전체 리스트를 메모리에 한 번에 적재하지 않습니다.** 그러나 대신에 '발생자 객체'를 만들어서 언제든지 오직 하나의 원소만 적재되도록 합니다.\n",
    " \n",
    "물론, 실제로 무언가에 리스트를 사용할 필요가 있다면, 이는 실제로 별 도움이 되지 않습니다.\n",
    "그러나 -- for 회돌이 같이 -- 무언가 반복자 객체를 받는 것에다 리스트를 건네려고 한다면,\n",
    "발생자 함수를 사용하는 편이 좋을 것입니다.\n",
    " \n",
    "발생자 표현식은 지능형 리스트와 구문이 같지만, 각괄호가 아니라 반괄호로 둘러싸여 있습니다:"
   ]
  },
  {
   "cell_type": "code",
   "execution_count": 10,
   "metadata": {
    "collapsed": false
   },
   "outputs": [
    {
     "data": {
      "text/plain": [
       "[1, 4, 9]"
      ]
     },
     "execution_count": 10,
     "metadata": {},
     "output_type": "execute_result"
    }
   ],
   "source": [
    "numbers = (1,2,3,4,5)\n",
    "squares_under_10 = (number*number for number in numbers if number*number < 10)\n",
    "\n",
    "sqaures_under_10"
   ]
  },
  {
   "cell_type": "markdown",
   "metadata": {},
   "source": [
    "지능형 리스트를 사용하는 것보다 이것이 좀 더 효율적입니다.\n",
    "그래서, 원소 개수가 엄청나게 많으면 발생자 표현식을 사용합니다. 어떤 이유로 전체 리스트가 한 번에 필요하다면 언제나 지능형 리스트를 사용합니다. 어느 쪽도 아니라면, 그냥 마음대로 하세요. 발생자 표현식을 사용하는 것이 아마도 좋은 관례일 겁니다. 특별히 그래야 할 이유가 없지 않는 한 말입니다. 그러나 리스트가 아주 방대하지 않는 한 그 효과의 실제적인 차이는 거의 없습니다.\n",
    " \n",
    "마지막 주의 사항으로서, 발생자 표현식은 한 쌍의 반괄호만 주위에 둘러야 합니다.\n",
    "그래서, 발생자 표현식만 가지고 함수를 호출하려면 오직 한 쌍의 반괄호만 있으면 됩니다.\n",
    "다음은 유효한 파이썬 구문입니다: some_function(item for item in list)."
   ]
  },
  {
   "cell_type": "markdown",
   "metadata": {},
   "source": [
    "### 2. 1. 5 맺는 말\n",
    "\n",
    "이렇게 말하고 싶지는 않지만, 지금까지 지능형 리스트와 발생자 표현식이 할 수 있는 일들의 겉모습만을 보았을 뿐입니다. for 회돌이와 if 서술문의 진정한 힘을 맛볼 수 있습니다. 이 둘이면 (생각건대) 무엇이든 할 수 있습니다. 리스트의 리스트를 포함하여, (기타 반복가능 객체) 리스트로 시작하고 (발생자) 리스트로 끝내고 싶은 것이면 무엇이든 처리할 수 잇습니다."
   ]
  },
  {
   "cell_type": "markdown",
   "metadata": {},
   "source": [
    "지능형 리스트 : [element for variable(s) in list if condition]\n",
    "발생형 리스트 : (element for variable(s) in list if condition)"
   ]
  },
  {
   "cell_type": "code",
   "execution_count": null,
   "metadata": {
    "collapsed": true
   },
   "outputs": [],
   "source": []
  }
 ],
 "metadata": {
  "kernelspec": {
   "display_name": "Python 2",
   "language": "python",
   "name": "python2"
  },
  "language_info": {
   "codemirror_mode": {
    "name": "ipython",
    "version": 2
   },
   "file_extension": ".py",
   "mimetype": "text/x-python",
   "name": "python",
   "nbconvert_exporter": "python",
   "pygments_lexer": "ipython2",
   "version": "2.7.13"
  }
 },
 "nbformat": 4,
 "nbformat_minor": 2
}
